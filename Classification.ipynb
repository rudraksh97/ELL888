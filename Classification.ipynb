{
  "nbformat": 4,
  "nbformat_minor": 0,
  "metadata": {
    "colab": {
      "name": "ELL888-Ass-1 b).ipynb",
      "provenance": [],
      "collapsed_sections": [],
      "toc_visible": true
    },
    "kernelspec": {
      "name": "python3",
      "display_name": "Python 3"
    },
    "accelerator": "GPU"
  },
  "cells": [
    {
      "cell_type": "code",
      "metadata": {
        "id": "1uQZepfDX6SO",
        "colab_type": "code",
        "outputId": "6a7a7348-fc8e-4629-ded0-4842257e119a",
        "colab": {
          "base_uri": "https://localhost:8080/",
          "height": 81
        }
      },
      "source": [
        "import os\n",
        "import numpy as np\n",
        "import pandas as pd\n",
        "import pickle\n",
        "import matplotlib.pyplot as plt\n",
        "import cv2 as cv\n",
        "import tensorflow as tf\n",
        "from keras import backend\n",
        "from keras.models import *\n",
        "from keras.metrics import *\n",
        "from keras.layers import *\n",
        "from keras.optimizers import *\n",
        "from keras.callbacks import ModelCheckpoint,EarlyStopping\n",
        "from sklearn.model_selection import train_test_split"
      ],
      "execution_count": 0,
      "outputs": [
        {
          "output_type": "display_data",
          "data": {
            "text/html": [
              "<p style=\"color: red;\">\n",
              "The default version of TensorFlow in Colab will soon switch to TensorFlow 2.x.<br>\n",
              "We recommend you <a href=\"https://www.tensorflow.org/guide/migrate\" target=\"_blank\">upgrade</a> now \n",
              "or ensure your notebook will continue to use TensorFlow 1.x via the <code>%tensorflow_version 1.x</code> magic:\n",
              "<a href=\"https://colab.research.google.com/notebooks/tensorflow_version.ipynb\" target=\"_blank\">more info</a>.</p>\n"
            ],
            "text/plain": [
              "<IPython.core.display.HTML object>"
            ]
          },
          "metadata": {
            "tags": []
          }
        },
        {
          "output_type": "stream",
          "text": [
            "Using TensorFlow backend.\n"
          ],
          "name": "stderr"
        }
      ]
    },
    {
      "cell_type": "code",
      "metadata": {
        "id": "KEHaUj4DZRC0",
        "colab_type": "code",
        "outputId": "1edb9d59-87f8-48fd-f48c-b3b905abc147",
        "colab": {
          "base_uri": "https://localhost:8080/",
          "height": 125
        }
      },
      "source": [
        "from google.colab import drive\n",
        "drive.mount('/content/drive')"
      ],
      "execution_count": 0,
      "outputs": [
        {
          "output_type": "stream",
          "text": [
            "Go to this URL in a browser: https://accounts.google.com/o/oauth2/auth?client_id=947318989803-6bn6qk8qdgf4n4g3pfee6491hc0brc4i.apps.googleusercontent.com&redirect_uri=urn%3aietf%3awg%3aoauth%3a2.0%3aoob&response_type=code&scope=email%20https%3a%2f%2fwww.googleapis.com%2fauth%2fdocs.test%20https%3a%2f%2fwww.googleapis.com%2fauth%2fdrive%20https%3a%2f%2fwww.googleapis.com%2fauth%2fdrive.photos.readonly%20https%3a%2f%2fwww.googleapis.com%2fauth%2fpeopleapi.readonly\n",
            "\n",
            "Enter your authorization code:\n",
            "··········\n",
            "Mounted at /content/drive\n"
          ],
          "name": "stdout"
        }
      ]
    },
    {
      "cell_type": "code",
      "metadata": {
        "id": "vNRmbQdUZWJ6",
        "colab_type": "code",
        "colab": {}
      },
      "source": [
        "ap = []\n",
        "lat = []\n",
        "textr = open(\"location_train.txt\").read()\n",
        "files = textr.split(\"\\n\")\n",
        "\n",
        "for file in files:\n",
        "  if(\"ap.\" in file.lower()):\n",
        "    ap.append(file)\n",
        "\n",
        "  elif(\"lat.\" in file.lower()):\n",
        "    lat.append(file)"
      ],
      "execution_count": 0,
      "outputs": []
    },
    {
      "cell_type": "code",
      "metadata": {
        "id": "QPEZ3yWtnOw1",
        "colab_type": "code",
        "colab": {}
      },
      "source": [
        "def status(file):\n",
        "  if(\"Damaged\" in file):\n",
        "    return 1\n",
        "  elif(\"Normal\" in file):\n",
        "    return 0"
      ],
      "execution_count": 0,
      "outputs": []
    },
    {
      "cell_type": "code",
      "metadata": {
        "id": "-aKqGdVSoUFY",
        "colab_type": "code",
        "colab": {}
      },
      "source": [
        "X = []; y = []\n",
        "for i in range(len(ap)):\n",
        "  X.append((ap[i],lat[i]))\n",
        "  y.append(status(ap[i]))\n",
        "X = np.array(X)\n",
        "y = np.array(y)"
      ],
      "execution_count": 0,
      "outputs": []
    },
    {
      "cell_type": "code",
      "metadata": {
        "id": "MGeNuGT5m3nm",
        "colab_type": "code",
        "colab": {}
      },
      "source": [
        "X_train, X_valid, y_train, y_valid = train_test_split(X,y, test_size = 0.2, random_state=42)"
      ],
      "execution_count": 0,
      "outputs": []
    },
    {
      "cell_type": "code",
      "metadata": {
        "id": "bCIqT7Z3wF-3",
        "colab_type": "code",
        "colab": {}
      },
      "source": [
        "X_train_ap = X_train[:,0].reshape(-1,1)\n",
        "X_valid_ap = X_valid[:,0].reshape(-1,1)\n",
        "X_train_lat = X_train[:,1].reshape(-1,1)\n",
        "X_valid_lat = X_valid[:,1].reshape(-1,1)\n",
        "y_train = y_train.reshape(-1,1)\n",
        "y_valid = y_valid.reshape(-1,1)"
      ],
      "execution_count": 0,
      "outputs": []
    },
    {
      "cell_type": "code",
      "metadata": {
        "id": "deqMJEWm0Moq",
        "colab_type": "code",
        "colab": {}
      },
      "source": [
        "def resized(img_path):\n",
        "  img = cv.imread(img_path)\n",
        "  img = cv.resize(img,(128,128))\n",
        "  img = img/255.0\n",
        "  return img"
      ],
      "execution_count": 0,
      "outputs": []
    },
    {
      "cell_type": "code",
      "metadata": {
        "id": "ZUngxDXGy9Av",
        "colab_type": "code",
        "colab": {}
      },
      "source": [
        "def image_generator(X,y, batch_size):\n",
        "  while True:\n",
        "    batch  = np.random.choice(X[0].shape[0],size = batch_size)\n",
        "    batch_input1  = []\n",
        "    batch_input2 = []\n",
        "    batch_output = []\n",
        "    \n",
        "    for i in batch:\n",
        "      output = y[i]\n",
        "      input1 = resized(X[0][i][0])\n",
        "      input2 = resized(X[1][i][0])\n",
        "\n",
        "      batch_input1  += [input1]\n",
        "      batch_input2 += [input2]\n",
        "      batch_output += [output]\n",
        "\n",
        "    batch_x1 = np.array(batch_input1)\n",
        "    batch_x2 = np.array(batch_input2)\n",
        "    batch_y = np.array(batch_output)\n",
        "    \n",
        "    yield ([batch_x1,batch_x2], batch_y)"
      ],
      "execution_count": 0,
      "outputs": []
    },
    {
      "cell_type": "code",
      "metadata": {
        "id": "cldC1tKFe4js",
        "colab_type": "code",
        "colab": {}
      },
      "source": [
        "def layer_stack(n_filters,inpt,dropout):\n",
        "  model = Conv2D(n_filters, (3, 3), padding='same')(inpt)\n",
        "  model = LeakyReLU(alpha=0.1)(model)\n",
        "  model = MaxPooling2D((2, 2),padding='same')(model)\n",
        "  #model = Dropout(rate = dropout)(model)\n",
        "  return model\n",
        "\n",
        "def conv_layers(input_img,shape,n_filters):\n",
        "  model = Conv2D(n_filters, (3, 3), padding='same',input_shape=shape)(input_img)\n",
        "  model = LeakyReLU(alpha=0.1)(model)\n",
        "  model = MaxPooling2D((2, 2),padding='same')(model)\n",
        "  #model = Dropout(rate = 0.25)(model)\n",
        "  model = layer_stack(n_filters*2,model,0.25)\n",
        "  model = layer_stack(n_filters*2*2,model,0.25)\n",
        "  return model"
      ],
      "execution_count": 0,
      "outputs": []
    },
    {
      "cell_type": "code",
      "metadata": {
        "id": "4xFVPiXahwXS",
        "colab_type": "code",
        "colab": {}
      },
      "source": [
        "shape = (128,128,3)\n",
        "n_filters = 16\n",
        "ap_input = Input(shape=shape)\n",
        "ap_model = conv_layers(ap_input,shape=shape,n_filters = n_filters)\n",
        "\n",
        "lat_input = Input(shape=shape)\n",
        "lat_model = conv_layers(lat_input,shape=shape,n_filters = n_filters)\n",
        "\n",
        "conv = concatenate([ap_model,lat_model])\n",
        "conv = Flatten()(conv)\n",
        "\n",
        "dense = Dense(512)(conv)\n",
        "dense = LeakyReLU(alpha=0.1)(dense)\n",
        "#dense = Dropout(0.25)(dense)\n",
        "\n",
        "output = Dense(1, activation='sigmoid')(dense)\n",
        "model = Model(inputs=[ap_input,lat_input], outputs=[output])\n",
        "model.compile(loss=\"binary_crossentropy\",optimizer=Adam(),metrics=['accuracy'])"
      ],
      "execution_count": 0,
      "outputs": []
    },
    {
      "cell_type": "code",
      "metadata": {
        "id": "4-a8zdhcrl-M",
        "colab_type": "code",
        "outputId": "85de9efa-a8c6-417e-ad58-a1f76c95706f",
        "colab": {
          "base_uri": "https://localhost:8080/",
          "height": 1000
        }
      },
      "source": [
        "model.summary()"
      ],
      "execution_count": 0,
      "outputs": [
        {
          "output_type": "stream",
          "text": [
            "Model: \"model_2\"\n",
            "__________________________________________________________________________________________________\n",
            "Layer (type)                    Output Shape         Param #     Connected to                     \n",
            "==================================================================================================\n",
            "input_3 (InputLayer)            (None, 128, 128, 3)  0                                            \n",
            "__________________________________________________________________________________________________\n",
            "input_4 (InputLayer)            (None, 128, 128, 3)  0                                            \n",
            "__________________________________________________________________________________________________\n",
            "conv2d_7 (Conv2D)               (None, 128, 128, 16) 448         input_3[0][0]                    \n",
            "__________________________________________________________________________________________________\n",
            "conv2d_10 (Conv2D)              (None, 128, 128, 16) 448         input_4[0][0]                    \n",
            "__________________________________________________________________________________________________\n",
            "leaky_re_lu_8 (LeakyReLU)       (None, 128, 128, 16) 0           conv2d_7[0][0]                   \n",
            "__________________________________________________________________________________________________\n",
            "leaky_re_lu_11 (LeakyReLU)      (None, 128, 128, 16) 0           conv2d_10[0][0]                  \n",
            "__________________________________________________________________________________________________\n",
            "max_pooling2d_7 (MaxPooling2D)  (None, 64, 64, 16)   0           leaky_re_lu_8[0][0]              \n",
            "__________________________________________________________________________________________________\n",
            "max_pooling2d_10 (MaxPooling2D) (None, 64, 64, 16)   0           leaky_re_lu_11[0][0]             \n",
            "__________________________________________________________________________________________________\n",
            "conv2d_8 (Conv2D)               (None, 64, 64, 32)   4640        max_pooling2d_7[0][0]            \n",
            "__________________________________________________________________________________________________\n",
            "conv2d_11 (Conv2D)              (None, 64, 64, 32)   4640        max_pooling2d_10[0][0]           \n",
            "__________________________________________________________________________________________________\n",
            "leaky_re_lu_9 (LeakyReLU)       (None, 64, 64, 32)   0           conv2d_8[0][0]                   \n",
            "__________________________________________________________________________________________________\n",
            "leaky_re_lu_12 (LeakyReLU)      (None, 64, 64, 32)   0           conv2d_11[0][0]                  \n",
            "__________________________________________________________________________________________________\n",
            "max_pooling2d_8 (MaxPooling2D)  (None, 32, 32, 32)   0           leaky_re_lu_9[0][0]              \n",
            "__________________________________________________________________________________________________\n",
            "max_pooling2d_11 (MaxPooling2D) (None, 32, 32, 32)   0           leaky_re_lu_12[0][0]             \n",
            "__________________________________________________________________________________________________\n",
            "conv2d_9 (Conv2D)               (None, 32, 32, 64)   18496       max_pooling2d_8[0][0]            \n",
            "__________________________________________________________________________________________________\n",
            "conv2d_12 (Conv2D)              (None, 32, 32, 64)   18496       max_pooling2d_11[0][0]           \n",
            "__________________________________________________________________________________________________\n",
            "leaky_re_lu_10 (LeakyReLU)      (None, 32, 32, 64)   0           conv2d_9[0][0]                   \n",
            "__________________________________________________________________________________________________\n",
            "leaky_re_lu_13 (LeakyReLU)      (None, 32, 32, 64)   0           conv2d_12[0][0]                  \n",
            "__________________________________________________________________________________________________\n",
            "max_pooling2d_9 (MaxPooling2D)  (None, 16, 16, 64)   0           leaky_re_lu_10[0][0]             \n",
            "__________________________________________________________________________________________________\n",
            "max_pooling2d_12 (MaxPooling2D) (None, 16, 16, 64)   0           leaky_re_lu_13[0][0]             \n",
            "__________________________________________________________________________________________________\n",
            "concatenate_2 (Concatenate)     (None, 16, 16, 128)  0           max_pooling2d_9[0][0]            \n",
            "                                                                 max_pooling2d_12[0][0]           \n",
            "__________________________________________________________________________________________________\n",
            "flatten_2 (Flatten)             (None, 32768)        0           concatenate_2[0][0]              \n",
            "__________________________________________________________________________________________________\n",
            "dense_3 (Dense)                 (None, 512)          16777728    flatten_2[0][0]                  \n",
            "__________________________________________________________________________________________________\n",
            "leaky_re_lu_14 (LeakyReLU)      (None, 512)          0           dense_3[0][0]                    \n",
            "__________________________________________________________________________________________________\n",
            "dense_4 (Dense)                 (None, 1)            513         leaky_re_lu_14[0][0]             \n",
            "==================================================================================================\n",
            "Total params: 16,825,409\n",
            "Trainable params: 16,825,409\n",
            "Non-trainable params: 0\n",
            "__________________________________________________________________________________________________\n"
          ],
          "name": "stdout"
        }
      ]
    },
    {
      "cell_type": "code",
      "metadata": {
        "id": "w5KWx5Etr9fH",
        "colab_type": "code",
        "outputId": "cefc3709-1eb2-42f1-d5fe-465f66a24bbb",
        "colab": {
          "base_uri": "https://localhost:8080/",
          "height": 1000
        }
      },
      "source": [
        "checkpoint1 = ModelCheckpoint(filepath=\"weights.hdf5\", monitor='val_acc', verbose=1, save_best_only=True, mode='max')\n",
        "results = model.fit_generator(image_generator([X_train_ap,X_train_lat],y_train,10),steps_per_epoch=50, epochs=30,validation_data=image_generator([X_valid_ap,X_valid_lat],y_valid,10),validation_steps=12,callbacks = [checkpoint1])"
      ],
      "execution_count": 0,
      "outputs": [
        {
          "output_type": "stream",
          "text": [
            "WARNING:tensorflow:From /usr/local/lib/python3.6/dist-packages/keras/backend/tensorflow_backend.py:1033: The name tf.assign_add is deprecated. Please use tf.compat.v1.assign_add instead.\n",
            "\n",
            "WARNING:tensorflow:From /usr/local/lib/python3.6/dist-packages/keras/backend/tensorflow_backend.py:1020: The name tf.assign is deprecated. Please use tf.compat.v1.assign instead.\n",
            "\n",
            "WARNING:tensorflow:From /usr/local/lib/python3.6/dist-packages/keras/backend/tensorflow_backend.py:3005: The name tf.Session is deprecated. Please use tf.compat.v1.Session instead.\n",
            "\n",
            "Epoch 1/30\n",
            "WARNING:tensorflow:From /usr/local/lib/python3.6/dist-packages/keras/backend/tensorflow_backend.py:190: The name tf.get_default_session is deprecated. Please use tf.compat.v1.get_default_session instead.\n",
            "\n",
            "WARNING:tensorflow:From /usr/local/lib/python3.6/dist-packages/keras/backend/tensorflow_backend.py:197: The name tf.ConfigProto is deprecated. Please use tf.compat.v1.ConfigProto instead.\n",
            "\n",
            "WARNING:tensorflow:From /usr/local/lib/python3.6/dist-packages/keras/backend/tensorflow_backend.py:207: The name tf.global_variables is deprecated. Please use tf.compat.v1.global_variables instead.\n",
            "\n",
            "WARNING:tensorflow:From /usr/local/lib/python3.6/dist-packages/keras/backend/tensorflow_backend.py:216: The name tf.is_variable_initialized is deprecated. Please use tf.compat.v1.is_variable_initialized instead.\n",
            "\n",
            "WARNING:tensorflow:From /usr/local/lib/python3.6/dist-packages/keras/backend/tensorflow_backend.py:223: The name tf.variables_initializer is deprecated. Please use tf.compat.v1.variables_initializer instead.\n",
            "\n",
            "50/50 [==============================] - 740s 15s/step - loss: 0.8260 - acc: 0.5680 - val_loss: 0.5336 - val_acc: 0.7250\n",
            "\n",
            "Epoch 00001: val_acc improved from -inf to 0.72500, saving model to weights.hdf5\n",
            "Epoch 2/30\n",
            "50/50 [==============================] - 294s 6s/step - loss: 0.4970 - acc: 0.7700 - val_loss: 0.5283 - val_acc: 0.7417\n",
            "\n",
            "Epoch 00002: val_acc improved from 0.72500 to 0.74167, saving model to weights.hdf5\n",
            "Epoch 3/30\n",
            "50/50 [==============================] - 165s 3s/step - loss: 0.4242 - acc: 0.8100 - val_loss: 0.5560 - val_acc: 0.7250\n",
            "\n",
            "Epoch 00003: val_acc did not improve from 0.74167\n",
            "Epoch 4/30\n",
            "50/50 [==============================] - 97s 2s/step - loss: 0.3582 - acc: 0.8340 - val_loss: 0.5310 - val_acc: 0.7167\n",
            "\n",
            "Epoch 00004: val_acc did not improve from 0.74167\n",
            "Epoch 5/30\n",
            "50/50 [==============================] - 88s 2s/step - loss: 0.3067 - acc: 0.8700 - val_loss: 0.6737 - val_acc: 0.7417\n",
            "\n",
            "Epoch 00005: val_acc did not improve from 0.74167\n",
            "Epoch 6/30\n",
            "50/50 [==============================] - 78s 2s/step - loss: 0.2219 - acc: 0.9120 - val_loss: 0.6896 - val_acc: 0.7000\n",
            "\n",
            "Epoch 00006: val_acc did not improve from 0.74167\n",
            "Epoch 7/30\n",
            "50/50 [==============================] - 79s 2s/step - loss: 0.1445 - acc: 0.9440 - val_loss: 0.4949 - val_acc: 0.8500\n",
            "\n",
            "Epoch 00007: val_acc improved from 0.74167 to 0.85000, saving model to weights.hdf5\n",
            "Epoch 8/30\n",
            "50/50 [==============================] - 73s 1s/step - loss: 0.1508 - acc: 0.9440 - val_loss: 0.8379 - val_acc: 0.7500\n",
            "\n",
            "Epoch 00008: val_acc did not improve from 0.85000\n",
            "Epoch 9/30\n",
            "50/50 [==============================] - 72s 1s/step - loss: 0.1272 - acc: 0.9540 - val_loss: 0.8359 - val_acc: 0.8000\n",
            "\n",
            "Epoch 00009: val_acc did not improve from 0.85000\n",
            "Epoch 10/30\n",
            "50/50 [==============================] - 72s 1s/step - loss: 0.1029 - acc: 0.9680 - val_loss: 0.9412 - val_acc: 0.8000\n",
            "\n",
            "Epoch 00010: val_acc did not improve from 0.85000\n",
            "Epoch 11/30\n",
            " 1/50 [..............................] - ETA: 2s - loss: 0.1376 - acc: 0.9000"
          ],
          "name": "stdout"
        }
      ]
    },
    {
      "cell_type": "code",
      "metadata": {
        "id": "F0Hv1OLUVAws",
        "colab_type": "code",
        "outputId": "03b6bd94-0bbb-49dd-8f22-ddd00a278226",
        "colab": {
          "base_uri": "https://localhost:8080/",
          "height": 513
        }
      },
      "source": [
        "plt.figure(figsize=(8, 8))\n",
        "plt.title(\"Accuracy with epochs\")\n",
        "plt.plot(results.history['acc'], label=\"accuracy\")\n",
        "plt.plot(results.history[\"val_acc\"], label=\"val_acc\")\n",
        "plt.plot(np.argmax(results.history[\"val_acc\"]), np.max(results.history[\"val_acc\"]), marker=\"x\", color=\"r\", label=\"best model(accuracy)\")\n",
        "plt.xlabel(\"Epochs\")\n",
        "plt.ylabel(\"Accuracy\")\n",
        "plt.legend()\n",
        "plt.show()"
      ],
      "execution_count": 0,
      "outputs": [
        {
          "output_type": "display_data",
          "data": {
            "image/png": "[encoded data removed]",
            "text/plain": [
              "<Figure size 576x576 with 1 Axes>"
            ]
          },
          "metadata": {
            "tags": []
          }
        }
      ]
    },
    {
      "cell_type": "code",
      "metadata": {
        "id": "u6HhwUB6XvJe",
        "colab_type": "code",
        "colab": {}
      },
      "source": [
        "model.load_weights('weights.hdf5')"
      ],
      "execution_count": 0,
      "outputs": []
    },
    {
      "cell_type": "code",
      "metadata": {
        "id": "jBM5xGFxfNYx",
        "colab_type": "code",
        "colab": {}
      },
      "source": [
        "files = []\n",
        "for d,_,filename in os.walk(\"/content/drive/My Drive/TestData\"):\n",
        "  for f in filename:        \n",
        "    files.append(os.path.join(d,f))"
      ],
      "execution_count": 0,
      "outputs": []
    },
    {
      "cell_type": "code",
      "metadata": {
        "id": "nKbfKF7kkokG",
        "colab_type": "code",
        "colab": {}
      },
      "source": [
        "files = sorted(files)\n",
        "count = 0\n",
        "d = {}\n",
        "for f in files:\n",
        "  num = int(f[f.find(\"(\")+1:f.find(\")\")])\n",
        "  count+=1\n",
        "  if(count%2 != 0):\n",
        "    d[num] = [f]\n",
        "  else:\n",
        "    d[num].append(f)"
      ],
      "execution_count": 0,
      "outputs": []
    },
    {
      "cell_type": "code",
      "metadata": {
        "id": "VbavGV8Nv0xY",
        "colab_type": "code",
        "colab": {}
      },
      "source": [
        "def collapse(prob):\n",
        "  if(prob>=0.5):\n",
        "    return 1\n",
        "  else:\n",
        "    return 0\n",
        "\n",
        "for i in d.keys():\n",
        "  d[i] = collapse(model.predict([[resized(d[i][0])],[resized(d[i][1])]]))"
      ],
      "execution_count": 0,
      "outputs": []
    },
    {
      "cell_type": "code",
      "metadata": {
        "id": "Dhu99vmfYLP2",
        "colab_type": "code",
        "colab": {}
      },
      "source": [
        "dict2 = {}\n",
        "for i in d.keys():\n",
        "  dict2[str(i)] = str(d[i])\n",
        "\n",
        "\n",
        "import pickle\n",
        "pickle_out = open(\"classification_correct.pickle\",\"wb\")\n",
        "pickle.dump(dict2, pickle_out)\n",
        "pickle_out.close()"
      ],
      "execution_count": 0,
      "outputs": []
    },
    {
      "cell_type": "code",
      "metadata": {
        "id": "WjdqgCVfbmCh",
        "colab_type": "code",
        "colab": {}
      },
      "source": [
        ""
      ],
      "execution_count": 0,
      "outputs": []
    },
    {
      "cell_type": "code",
      "metadata": {
        "id": "czeeuVNseouf",
        "colab_type": "code",
        "colab": {}
      },
      "source": [
        ""
      ],
      "execution_count": 0,
      "outputs": []
    }
  ]
}